{
 "cells": [
  {
   "cell_type": "code",
   "execution_count": 14,
   "metadata": {},
   "outputs": [],
   "source": [
    "#sample API query\n",
    "# https://rt.data.gov.hk/v1/transport/mtr/getSchedule.php?line=WRL&sta=AUS\n",
    "\n",
    "import requests\n",
    "import json\n",
    "import time \n",
    "import  pandas as pd "
   ]
  },
  {
   "cell_type": "code",
   "execution_count": 59,
   "metadata": {
    "tags": [
     "outputPrepend",
     "outputPrepend"
    ]
   },
   "outputs": [
    {
     "output_type": "stream",
     "name": "stdout",
     "text": "API call successful for line: WRL station: HUH (response time: 152.3867ms)\nAPI call successful for line: WRL station: TST (response time: 322.927ms)\nAPI call successful for line: WRL station: AUS (response time: 128.4451ms)\nAPI call successful for line: WRL station: NAC (response time: 154.8958ms)\nAPI call successful for line: WRL station: MEF (response time: 144.5527ms)\nAPI call successful for line: WRL station: TWW (response time: 158.8781ms)\nAPI call successful for line: WRL station: KSR (response time: 148.8991ms)\nAPI call successful for line: WRL station: YUL (response time: 290.8289ms)\nAPI call successful for line: WRL station: LOP (response time: 160.1989ms)\nAPI call successful for line: WRL station: TIS (response time: 133.0354ms)\nAPI call successful for line: WRL station: SIH (response time: 130.2321ms)\nAPI call successful for line: WRL station: TUM (response time: 134.8202ms)\n"
    }
   ],
   "source": [
    "URL = 'https://rt.data.gov.hk/v1/transport/mtr/getSchedule.php?line=WRL&sta=AUS'\n",
    "AEL_list = ['HOK','KOW','TSY','AIR','AWE']\n",
    "WRL_list = ['HUH','TST','AUS','NAC','MEF','TWW','KSR','YUL','LOP','TIS','SIH','TUM']\n",
    "\n",
    "#r = requests.get(url = URL) \n",
    "#print(r.json())\n",
    "#print(json.dumps(r.json(),indent=4)) \n",
    "\n",
    "BASEURL='https://rt.data.gov.hk/v1/transport/mtr/getSchedule.php?line='\n",
    "\n",
    "line='WRL'\n",
    "response_df=pd.DataFrame() \n",
    "\n",
    "for station in WRL_list:\n",
    "    tic = time.time()\n",
    "    URL = BASEURL+line+'&sta='+station\n",
    "    r=requests.get(URL)\n",
    "    #print(json.dumps(r.json(),indent=4))\n",
    "    toc=time.time()\n",
    "    if r.status_code == 200:\n",
    "        print('API call successful for line: %s station: %s (response time: %sms)' %(line,station,str(round((toc-tic)*1000,4)))) \n",
    "        #print(r)\n",
    "        #print(json.dumps(r.json(),indent=4))\n",
    "        response_df=response_df.append(processResp(r))\n",
    "    else:\n",
    "        print(json.dumps(r.json(),indent=4))\n",
    "\n"
   ]
  },
  {
   "cell_type": "code",
   "execution_count": 67,
   "metadata": {},
   "outputs": [
    {
     "output_type": "stream",
     "name": "stdout",
     "text": "status     message           curr_time            sys_time isdelay  \\\nWRL-TUM       1  successful 2020-05-17 18:08:35 2020-05-17 18:08:35       N   \n\n                                                      data  \nWRL-TUM  {'curr_time': '2020-05-17 18:08:35', 'sys_time...  \n"
    }
   ],
   "source": [
    "\n",
    "\n",
    "def processResp(response=''):\n",
    "    x=response.json() \n",
    "    return pd.read_json(json.dumps(x))  \n",
    "\n",
    "print(processResp(r))"
   ]
  }
 ],
 "metadata": {
  "kernelspec": {
   "display_name": "Python 3",
   "language": "python",
   "name": "python3"
  },
  "language_info": {
   "codemirror_mode": {
    "name": "ipython",
    "version": 3
   },
   "file_extension": ".py",
   "mimetype": "text/x-python",
   "name": "python",
   "nbconvert_exporter": "python",
   "pygments_lexer": "ipython3",
   "version": "3.6.9-final"
  }
 },
 "nbformat": 4,
 "nbformat_minor": 2
}